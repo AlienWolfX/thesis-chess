{
  "cells": [
    {
      "cell_type": "markdown",
      "metadata": {
        "id": "XeEfwHI_5XG7"
      },
      "source": [
        "![RookEye](https://raw.githubusercontent.com/AlienWolfX/thesis-chess/refs/heads/main/img/rookeye.ph.png)\n",
        "\n",
        "Yolov8 Training notebook for our thesis\n",
        "\n",
        "\n",
        "Github: [AlienWolfX](https://github.com/AlienWolfX)\n",
        "\n",
        "          "
      ]
    },
    {
      "cell_type": "markdown",
      "metadata": {
        "id": "3C3EO_2zNChu"
      },
      "source": [
        "## Installing YOLOv8"
      ]
    },
    {
      "cell_type": "code",
      "execution_count": null,
      "metadata": {
        "colab": {
          "base_uri": "https://localhost:8080/"
        },
        "id": "tdSMcABDNKW-",
        "outputId": "da1be05d-b92b-4d50-84d5-754247f544b9"
      },
      "outputs": [],
      "source": [
        "# Pip install method (recommended)\n",
        "\n",
        "!pip install ultralytics==8.2.103 -q\n",
        "\n",
        "from IPython import display\n",
        "display.clear_output()\n",
        "\n",
        "import ultralytics\n",
        "ultralytics.checks()"
      ]
    },
    {
      "cell_type": "code",
      "execution_count": null,
      "metadata": {
        "id": "VOEYrlBoP9-E"
      },
      "outputs": [],
      "source": [
        "from ultralytics import YOLO\n",
        "\n",
        "from IPython.display import display, Image"
      ]
    },
    {
      "cell_type": "markdown",
      "metadata": {
        "id": "BeFU3mQb1gDd"
      },
      "source": [
        "## Downloading dataset from roboflow"
      ]
    },
    {
      "cell_type": "code",
      "execution_count": null,
      "metadata": {
        "colab": {
          "base_uri": "https://localhost:8080/"
        },
        "id": "BSd93ZJzZZKt",
        "outputId": "8e1802cc-adc4-4287-ef10-a6f8c19095b8"
      },
      "outputs": [],
      "source": [
        "!mkdir -p rookeye\n",
        "%cd rookeye\n",
        "\n",
        "!pip install roboflow --quiet\n",
        "\n",
        "import roboflow\n",
        "\n",
        "from roboflow import Roboflow\n",
        "rf = Roboflow(api_key=\"i4Pfe2x0BiQamj9K5l9a\") # Ayaw pag ikalat 🤫\n",
        "project = rf.workspace(\"rookeye\").project(\"rookeye\")\n",
        "version = project.version(21) # Gamit latest\n",
        "dataset = version.download(\"yolov8\")"
      ]
    },
    {
      "cell_type": "markdown",
      "metadata": {
        "id": "YUjFBKKqXa-u"
      },
      "source": [
        "## Training\n"
      ]
    },
    {
      "cell_type": "code",
      "execution_count": null,
      "metadata": {
        "id": "cSgnYS8833Ut"
      },
      "outputs": [],
      "source": [
        "import yaml\n",
        "\n",
        "with open(f\"{dataset.location}/data.yaml\", 'r') as f:\n",
        "    dataset_yaml = yaml.safe_load(f)\n",
        "dataset_yaml[\"train\"] = \"../train/images\"\n",
        "dataset_yaml[\"val\"] = \"../valid/images\"\n",
        "dataset_yaml[\"test\"] = \"../test/images\"\n",
        "with open(f\"{dataset.location}/data.yaml\", 'w') as f:\n",
        "    yaml.dump(dataset_yaml, f)"
      ]
    },
    {
      "cell_type": "code",
      "execution_count": null,
      "metadata": {
        "colab": {
          "base_uri": "https://localhost:8080/"
        },
        "id": "D2YkphuiaE7_",
        "outputId": "c29fb0d1-12e4-4aef-897f-49e9378adefd"
      },
      "outputs": [],
      "source": [
        "!yolo task=detect mode=train model=yolov8s.pt data={dataset.location}/data.yaml epochs=50 plots=True batch=16"
      ]
    },
    {
      "cell_type": "markdown",
      "metadata": {
        "id": "pIYAx3TR3QM7"
      },
      "source": [
        "## Viewing Stats"
      ]
    },
    {
      "cell_type": "code",
      "execution_count": null,
      "metadata": {
        "colab": {
          "base_uri": "https://localhost:8080/",
          "height": 1000
        },
        "id": "_J35i8Ofhjxa",
        "outputId": "4ddeac0b-ec79-4f82-b907-d4b03438c4d9"
      },
      "outputs": [],
      "source": [
        "from IPython.display import Image, display\n",
        "\n",
        "# Display the first image\n",
        "display(Image(filename='runs/detect/train/confusion_matrix.png', width=600))\n",
        "print(\"\")\n",
        "\n",
        "# Display the second image\n",
        "display(Image(filename='runs/detect/train/results.png', width=600))\n",
        "print(\"\")\n",
        "\n",
        "# Display the third image\n",
        "display(Image(filename='runs/detect/train/val_batch0_pred.jpg', width=600))\n",
        "print(\"\")\n"
      ]
    },
    {
      "cell_type": "markdown",
      "metadata": {
        "id": "6ODk1VTlevxn"
      },
      "source": [
        "## Validate Custom Model"
      ]
    },
    {
      "cell_type": "code",
      "execution_count": null,
      "metadata": {
        "colab": {
          "base_uri": "https://localhost:8080/"
        },
        "id": "YpyuwrNlXc1P",
        "outputId": "30801ddd-761a-43c6-857b-32bae6a1ad05"
      },
      "outputs": [],
      "source": [
        "!yolo task=detect mode=val model=runs/detect/train/weights/best.pt data={dataset.location}/data.yaml"
      ]
    },
    {
      "cell_type": "markdown",
      "metadata": {
        "id": "i4eASbcWkQBq"
      },
      "source": [
        "## Inference with Custom Model (images)"
      ]
    },
    {
      "cell_type": "code",
      "execution_count": null,
      "metadata": {
        "colab": {
          "base_uri": "https://localhost:8080/"
        },
        "id": "Wjc1ctZykYuf",
        "outputId": "da1fb811-12be-4437-a60e-b6cbec103c08"
      },
      "outputs": [],
      "source": [
        "!yolo task=detect mode=predict model=runs/detect/train/weights/best.pt conf=0.25 source={dataset.location}/test/images save=True"
      ]
    },
    {
      "cell_type": "markdown",
      "metadata": {
        "id": "mEYIo95n-I0S"
      },
      "source": [
        "**NOTE:** Let's take a look at few results."
      ]
    },
    {
      "cell_type": "code",
      "execution_count": null,
      "metadata": {
        "colab": {
          "base_uri": "https://localhost:8080/",
          "height": 1000
        },
        "id": "jbVjEtPAkz3j",
        "outputId": "573ea11c-ca13-43c6-84c9-fe5d90d7844d"
      },
      "outputs": [],
      "source": [
        "import glob\n",
        "import os\n",
        "\n",
        "from IPython.display import Image, display\n",
        "\n",
        "base_path = 'runs/detect/'\n",
        "\n",
        "subfolders = [os.path.join(base_path, d) for d in os.listdir(base_path)\n",
        "              if os.path.isdir(os.path.join(base_path, d)) and d.startswith('predict')]\n",
        "\n",
        "latest_folder = max(subfolders, key=os.path.getmtime)\n",
        "\n",
        "image_paths = glob.glob(os.path.join(latest_folder, '*.jpg'))[:14]\n",
        "\n",
        "for image_path in image_paths:\n",
        "    display(Image(filename=image_path, width=600))\n",
        "    print(\"\\n\")\n"
      ]
    },
    {
      "cell_type": "markdown",
      "metadata": {
        "id": "aanIzSF74QgO"
      },
      "source": [
        "## Inference with Custom Model (video)"
      ]
    },
    {
      "cell_type": "code",
      "execution_count": null,
      "metadata": {
        "id": "OZsNXRyf4Xg5"
      },
      "outputs": [],
      "source": [
        "!yolo task=detect mode=predict model=runs/detect/train/weights/best.pt conf=0.25 source=0 save=True"
      ]
    },
    {
      "cell_type": "markdown",
      "metadata": {
        "id": "Nj363BG_3Apn"
      },
      "source": [
        "# Downloading Weights (Not applicable if run locally)"
      ]
    },
    {
      "cell_type": "code",
      "execution_count": null,
      "metadata": {
        "colab": {
          "base_uri": "https://localhost:8080/",
          "height": 17
        },
        "id": "yPuj1Y3exZNC",
        "outputId": "1acb15e2-2f7f-4183-b041-aa252b750291"
      },
      "outputs": [],
      "source": [
        "from google.colab import files\n",
        "files.download('runs/detect/train/weights/best.pt')"
      ]
    }
  ],
  "metadata": {
    "accelerator": "GPU",
    "colab": {
      "gpuType": "T4",
      "provenance": []
    },
    "kernelspec": {
      "display_name": "Python 3",
      "name": "python3"
    },
    "language_info": {
      "codemirror_mode": {
        "name": "ipython",
        "version": 3
      },
      "file_extension": ".py",
      "mimetype": "text/x-python",
      "name": "python",
      "nbconvert_exporter": "python",
      "pygments_lexer": "ipython3",
      "version": "3.9.6"
    }
  },
  "nbformat": 4,
  "nbformat_minor": 0
}
